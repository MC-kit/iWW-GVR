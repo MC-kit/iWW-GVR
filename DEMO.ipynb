{
 "cells": [
  {
   "cell_type": "code",
   "execution_count": 1,
   "metadata": {},
   "outputs": [],
   "source": [
    "import numpy as np\n",
    "from weight_window import WW"
   ]
  },
  {
   "cell_type": "code",
   "execution_count": 2,
   "metadata": {},
   "outputs": [
    {
     "data": {
      "text/plain": [
       "GVR_IVVS_BSP_v1 weight window:\n",
       "               -----From----- -----To----- ---No. Bins---\n",
       " I -->             0.00         1700.00         76\n",
       " J -->             0.00         3100.00         155\n",
       " K -->             0.00         1.00         360\n",
       "\n",
       " The mesh coordinates are cylindrical\n",
       "\n",
       " The weight window contains 1 particle/s of 4240800 voxels.\n",
       "\n",
       " Energy bins of particle n:\n",
       " [100.0]"
      ]
     },
     "execution_count": 2,
     "metadata": {},
     "output_type": "execute_result"
    }
   ],
   "source": [
    "ww = WW.read_from_ww_file('GVR_IVVS_BSP_v1')\n",
    "ww"
   ]
  },
  {
   "cell_type": "code",
   "execution_count": 5,
   "metadata": {},
   "outputs": [
    {
     "name": "stdout",
     "output_type": "stream",
     "text": [
      "The following weight window has been analysed: GVR_IVVS_BSP_v1\n",
      "---------------Par. N---------\n",
      "Min Value       : 0.00000\n",
      "Max Value       : 0.00130\n",
      "Max Ratio       : 9.99992\n",
      "No.Bins > 0 [%] : 94.72\n",
      "Neg. Value      : NO\n",
      " \n",
      "---------------Par. P---------\n",
      "Min Value       : 0.00000\n",
      "Max Value       : 0.00013\n",
      "Max Ratio       : 9.99992\n",
      "No.Bins > 0 [%] : 94.72\n",
      "Neg. Value      : NO\n",
      " \n",
      "Coordinates     : cyl\n",
      " \n",
      "\n"
     ]
    }
   ],
   "source": [
    "print(ww.info_analyse)"
   ]
  },
  {
   "cell_type": "code",
   "execution_count": 4,
   "metadata": {
    "scrolled": false
   },
   "outputs": [],
   "source": [
    "ww.add_particle(norm=0.1, soft=1)"
   ]
  },
  {
   "cell_type": "code",
   "execution_count": 5,
   "metadata": {},
   "outputs": [
    {
     "name": "stderr",
     "output_type": "stream",
     "text": [
      " Writing: 100%|███████████████████████████████████████████████████████████████| 156/156 [02:01<00:00,  1.29 J slices/s]\n"
     ]
    }
   ],
   "source": [
    "ww.export_to_vtk('GVR_cubi_v1')"
   ]
  },
  {
   "cell_type": "code",
   "execution_count": 6,
   "metadata": {},
   "outputs": [],
   "source": [
    "ww.write_ww_file('GVR_IVVS_BSP_v1_1.10')"
   ]
  },
  {
   "cell_type": "code",
   "execution_count": 22,
   "metadata": {},
   "outputs": [],
   "source": [
    "ww.values['n'][5] = ww.values['n'][50.0]*0.5"
   ]
  },
  {
   "cell_type": "code",
   "execution_count": 16,
   "metadata": {
    "scrolled": true
   },
   "outputs": [],
   "source": [
    "for particle in ww.particles:\n",
    "    for energy in ww.energies[particle]:\n",
    "        filter_ratio = np.where(ww.ratios[particle][energy]>10)\n",
    "        ww.values[particle][energy][filter_ratio] = 0.0"
   ]
  },
  {
   "cell_type": "code",
   "execution_count": 17,
   "metadata": {},
   "outputs": [],
   "source": [
    "ww.write_ww_file('filtered_10')"
   ]
  },
  {
   "cell_type": "code",
   "execution_count": 18,
   "metadata": {},
   "outputs": [
    {
     "name": "stdout",
     "output_type": "stream",
     "text": [
      "The following weight window has been analysed: tests/GVR_cubi_v1\n",
      "---------------Par. N---------\n",
      "Min Value       : 0.00000\n",
      "Max Value       : 0.57735\n",
      "Max Ratio       : 9.99879\n",
      "No.Bins > 0 [%] : 95.22\n",
      "Neg. Value      : NO\n",
      " \n",
      "Coordinates     : cyl\n",
      " \n",
      "\n"
     ]
    }
   ],
   "source": [
    "print(ww.info_analyse)"
   ]
  },
  {
   "cell_type": "code",
   "execution_count": 9,
   "metadata": {},
   "outputs": [
    {
     "name": "stderr",
     "output_type": "stream",
     "text": [
      " Writing: 100%|███████████████████████████████████████████████████████████████| 156/156 [02:15<00:00,  1.15 J slices/s]\n"
     ]
    }
   ],
   "source": [
    "ww.export_to_vtk_to_vtk('filtered_10')"
   ]
  },
  {
   "cell_type": "code",
   "execution_count": null,
   "metadata": {},
   "outputs": [],
   "source": []
  },
  {
   "cell_type": "code",
   "execution_count": null,
   "metadata": {},
   "outputs": [],
   "source": []
  },
  {
   "cell_type": "code",
   "execution_count": 10,
   "metadata": {},
   "outputs": [],
   "source": [
    "gvr = WW.read_from_meshtally_file('meshtal_1e9_filtered_10', 14)"
   ]
  },
  {
   "cell_type": "code",
   "execution_count": 11,
   "metadata": {},
   "outputs": [
    {
     "name": "stdout",
     "output_type": "stream",
     "text": [
      "The following weight window has been analysed: meshtal_1e9_filtered_10\n",
      "---------------Par. N---------\n",
      "Min Value       : 0.00000\n",
      "Max Value       : 0.33333\n",
      "Max Ratio       : 985142635199362.37500\n",
      "No.Bins > 0 [%] : 95.41\n",
      "Neg. Value      : NO\n",
      " \n",
      "Coordinates     : cyl\n",
      " \n",
      "\n"
     ]
    }
   ],
   "source": [
    "print(gvr.info_analyse)"
   ]
  },
  {
   "cell_type": "code",
   "execution_count": 12,
   "metadata": {},
   "outputs": [],
   "source": [
    "gvr.apply_softening(0.5)\n",
    "for particle in gvr.particles:\n",
    "    for energy in gvr.energies[particle]:\n",
    "        filt = np.where(gvr.ratios[particle][energy]>10)\n",
    "        gvr.values[particle][energy][filt] = 0.0\n",
    "gvr.calculate_ratios()"
   ]
  },
  {
   "cell_type": "code",
   "execution_count": 13,
   "metadata": {},
   "outputs": [
    {
     "name": "stdout",
     "output_type": "stream",
     "text": [
      "The following weight window has been analysed: meshtal_1e9_filtered_10\n",
      "---------------Par. N---------\n",
      "Min Value       : 0.00000\n",
      "Max Value       : 0.57735\n",
      "Max Ratio       : 10.00000\n",
      "No.Bins > 0 [%] : 94.72\n",
      "Neg. Value      : NO\n",
      " \n",
      "Coordinates     : cyl\n",
      " \n",
      "\n"
     ]
    }
   ],
   "source": [
    "print(gvr.info_analyse)"
   ]
  },
  {
   "cell_type": "code",
   "execution_count": 11,
   "metadata": {},
   "outputs": [],
   "source": [
    "gvr.write_ww_file('filtered_v2_0.5')"
   ]
  },
  {
   "cell_type": "code",
   "execution_count": null,
   "metadata": {},
   "outputs": [],
   "source": []
  },
  {
   "cell_type": "code",
   "execution_count": 7,
   "metadata": {},
   "outputs": [
    {
     "data": {
      "text/plain": [
       "array([[[3.13065e-09, 7.52608e-09, 8.65821e-09, ..., 0.00000e+00,\n",
       "         0.00000e+00, 0.00000e+00],\n",
       "        [1.40926e-08, 2.36535e-08, 1.80972e-08, ..., 0.00000e+00,\n",
       "         0.00000e+00, 0.00000e+00],\n",
       "        [2.73194e-08, 3.82042e-08, 4.16571e-08, ..., 0.00000e+00,\n",
       "         0.00000e+00, 0.00000e+00],\n",
       "        ...,\n",
       "        [1.35273e-07, 1.31609e-07, 1.48352e-07, ..., 3.98972e-10,\n",
       "         0.00000e+00, 0.00000e+00],\n",
       "        [1.21830e-07, 1.32768e-07, 1.39046e-07, ..., 5.44508e-10,\n",
       "         0.00000e+00, 0.00000e+00],\n",
       "        [7.71978e-08, 7.08410e-08, 8.30231e-08, ..., 0.00000e+00,\n",
       "         0.00000e+00, 0.00000e+00]],\n",
       "\n",
       "       [[4.54432e-09, 8.93417e-09, 8.65807e-09, ..., 0.00000e+00,\n",
       "         0.00000e+00, 0.00000e+00],\n",
       "        [1.35969e-08, 2.54499e-08, 1.73952e-08, ..., 0.00000e+00,\n",
       "         0.00000e+00, 0.00000e+00],\n",
       "        [2.63950e-08, 3.93563e-08, 3.99914e-08, ..., 0.00000e+00,\n",
       "         0.00000e+00, 0.00000e+00],\n",
       "        ...,\n",
       "        [1.29150e-07, 1.35404e-07, 1.44948e-07, ..., 2.76127e-10,\n",
       "         0.00000e+00, 0.00000e+00],\n",
       "        [1.30161e-07, 1.31378e-07, 1.37888e-07, ..., 8.42021e-11,\n",
       "         0.00000e+00, 0.00000e+00],\n",
       "        [7.95884e-08, 7.51741e-08, 7.78892e-08, ..., 0.00000e+00,\n",
       "         0.00000e+00, 0.00000e+00]],\n",
       "\n",
       "       [[6.61594e-09, 7.66621e-09, 8.01473e-09, ..., 0.00000e+00,\n",
       "         0.00000e+00, 0.00000e+00],\n",
       "        [1.68470e-08, 2.29505e-08, 1.80126e-08, ..., 0.00000e+00,\n",
       "         0.00000e+00, 0.00000e+00],\n",
       "        [2.98958e-08, 4.06100e-08, 3.65344e-08, ..., 0.00000e+00,\n",
       "         0.00000e+00, 0.00000e+00],\n",
       "        ...,\n",
       "        [1.33883e-07, 1.34702e-07, 1.46156e-07, ..., 5.09682e-10,\n",
       "         0.00000e+00, 0.00000e+00],\n",
       "        [1.19480e-07, 1.31143e-07, 1.33355e-07, ..., 3.11897e-10,\n",
       "         0.00000e+00, 0.00000e+00],\n",
       "        [7.40974e-08, 7.59620e-08, 7.88558e-08, ..., 1.30197e-10,\n",
       "         0.00000e+00, 0.00000e+00]],\n",
       "\n",
       "       ...,\n",
       "\n",
       "       [[5.55351e-09, 6.04676e-09, 7.78165e-09, ..., 0.00000e+00,\n",
       "         0.00000e+00, 0.00000e+00],\n",
       "        [1.38907e-08, 2.40748e-08, 2.02821e-08, ..., 0.00000e+00,\n",
       "         0.00000e+00, 0.00000e+00],\n",
       "        [3.19476e-08, 4.05958e-08, 3.70960e-08, ..., 0.00000e+00,\n",
       "         0.00000e+00, 0.00000e+00],\n",
       "        ...,\n",
       "        [1.37713e-07, 1.40780e-07, 1.44342e-07, ..., 0.00000e+00,\n",
       "         0.00000e+00, 0.00000e+00],\n",
       "        [1.20053e-07, 1.39378e-07, 1.30499e-07, ..., 0.00000e+00,\n",
       "         0.00000e+00, 0.00000e+00],\n",
       "        [6.63861e-08, 7.58632e-08, 8.43229e-08, ..., 0.00000e+00,\n",
       "         0.00000e+00, 0.00000e+00]],\n",
       "\n",
       "       [[3.72383e-09, 6.73726e-09, 8.79424e-09, ..., 0.00000e+00,\n",
       "         0.00000e+00, 0.00000e+00],\n",
       "        [1.44263e-08, 2.43283e-08, 2.07588e-08, ..., 0.00000e+00,\n",
       "         0.00000e+00, 0.00000e+00],\n",
       "        [2.77927e-08, 4.21318e-08, 3.70694e-08, ..., 0.00000e+00,\n",
       "         0.00000e+00, 0.00000e+00],\n",
       "        ...,\n",
       "        [1.40631e-07, 1.27488e-07, 1.49188e-07, ..., 0.00000e+00,\n",
       "         0.00000e+00, 0.00000e+00],\n",
       "        [1.21940e-07, 1.37142e-07, 1.35758e-07, ..., 0.00000e+00,\n",
       "         0.00000e+00, 0.00000e+00],\n",
       "        [7.23129e-08, 7.82221e-08, 8.83725e-08, ..., 0.00000e+00,\n",
       "         0.00000e+00, 0.00000e+00]],\n",
       "\n",
       "       [[3.15442e-09, 8.07128e-09, 9.08585e-09, ..., 0.00000e+00,\n",
       "         0.00000e+00, 0.00000e+00],\n",
       "        [1.49616e-08, 2.23161e-08, 1.99861e-08, ..., 0.00000e+00,\n",
       "         0.00000e+00, 0.00000e+00],\n",
       "        [2.91640e-08, 4.47076e-08, 3.94965e-08, ..., 0.00000e+00,\n",
       "         0.00000e+00, 0.00000e+00],\n",
       "        ...,\n",
       "        [1.37878e-07, 1.31042e-07, 1.47487e-07, ..., 1.24632e-10,\n",
       "         0.00000e+00, 0.00000e+00],\n",
       "        [1.26612e-07, 1.34841e-07, 1.36039e-07, ..., 3.98044e-10,\n",
       "         0.00000e+00, 0.00000e+00],\n",
       "        [7.81163e-08, 7.16592e-08, 8.80767e-08, ..., 0.00000e+00,\n",
       "         0.00000e+00, 0.00000e+00]]])"
      ]
     },
     "execution_count": 7,
     "metadata": {},
     "output_type": "execute_result"
    }
   ],
   "source": [
    "ww.values['p'][100.]"
   ]
  },
  {
   "cell_type": "code",
   "execution_count": 6,
   "metadata": {},
   "outputs": [
    {
     "data": {
      "text/plain": [
       "{'n': [3, 50.0]}"
      ]
     },
     "execution_count": 6,
     "metadata": {},
     "output_type": "execute_result"
    }
   ],
   "source": []
  }
 ],
 "metadata": {
  "kernelspec": {
   "display_name": "Python 3",
   "language": "python",
   "name": "python3"
  },
  "language_info": {
   "codemirror_mode": {
    "name": "ipython",
    "version": 3
   },
   "file_extension": ".py",
   "mimetype": "text/x-python",
   "name": "python",
   "nbconvert_exporter": "python",
   "pygments_lexer": "ipython3",
   "version": "3.8.8"
  }
 },
 "nbformat": 4,
 "nbformat_minor": 4
}
